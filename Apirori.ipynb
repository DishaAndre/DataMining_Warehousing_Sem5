{
  "nbformat": 4,
  "nbformat_minor": 0,
  "metadata": {
    "colab": {
      "provenance": [],
      "include_colab_link": true
    },
    "kernelspec": {
      "name": "python3",
      "display_name": "Python 3"
    },
    "language_info": {
      "name": "python"
    }
  },
  "cells": [
    {
      "cell_type": "markdown",
      "metadata": {
        "id": "view-in-github",
        "colab_type": "text"
      },
      "source": [
        "<a href=\"https://colab.research.google.com/github/DishaAndre/DataMining_Warehousing_Sem5/blob/main/Apirori.ipynb\" target=\"_parent\"><img src=\"https://colab.research.google.com/assets/colab-badge.svg\" alt=\"Open In Colab\"/></a>"
      ]
    },
    {
      "cell_type": "code",
      "execution_count": null,
      "metadata": {
        "colab": {
          "base_uri": "https://localhost:8080/",
          "height": 206
        },
        "id": "OjP_lzKJIATD",
        "outputId": "cade529e-aec9-42ff-dcf7-76e33eb9e004"
      },
      "outputs": [
        {
          "output_type": "execute_result",
          "data": {
            "text/plain": [
              "   TID                    Items\n",
              "0    1            [pen, pencil]\n",
              "1    2    [pen, eraser, pencil]\n",
              "2    3  [eraser, pencil, scale]\n",
              "3    4             [pen, scale]\n",
              "4    5     [pen, eraser, scale]"
            ],
            "text/html": [
              "\n",
              "  <div id=\"df-aeb6f254-bd04-4417-a109-249f6f631d85\" class=\"colab-df-container\">\n",
              "    <div>\n",
              "<style scoped>\n",
              "    .dataframe tbody tr th:only-of-type {\n",
              "        vertical-align: middle;\n",
              "    }\n",
              "\n",
              "    .dataframe tbody tr th {\n",
              "        vertical-align: top;\n",
              "    }\n",
              "\n",
              "    .dataframe thead th {\n",
              "        text-align: right;\n",
              "    }\n",
              "</style>\n",
              "<table border=\"1\" class=\"dataframe\">\n",
              "  <thead>\n",
              "    <tr style=\"text-align: right;\">\n",
              "      <th></th>\n",
              "      <th>TID</th>\n",
              "      <th>Items</th>\n",
              "    </tr>\n",
              "  </thead>\n",
              "  <tbody>\n",
              "    <tr>\n",
              "      <th>0</th>\n",
              "      <td>1</td>\n",
              "      <td>[pen, pencil]</td>\n",
              "    </tr>\n",
              "    <tr>\n",
              "      <th>1</th>\n",
              "      <td>2</td>\n",
              "      <td>[pen, eraser, pencil]</td>\n",
              "    </tr>\n",
              "    <tr>\n",
              "      <th>2</th>\n",
              "      <td>3</td>\n",
              "      <td>[eraser, pencil, scale]</td>\n",
              "    </tr>\n",
              "    <tr>\n",
              "      <th>3</th>\n",
              "      <td>4</td>\n",
              "      <td>[pen, scale]</td>\n",
              "    </tr>\n",
              "    <tr>\n",
              "      <th>4</th>\n",
              "      <td>5</td>\n",
              "      <td>[pen, eraser, scale]</td>\n",
              "    </tr>\n",
              "  </tbody>\n",
              "</table>\n",
              "</div>\n",
              "    <div class=\"colab-df-buttons\">\n",
              "\n",
              "  <div class=\"colab-df-container\">\n",
              "    <button class=\"colab-df-convert\" onclick=\"convertToInteractive('df-aeb6f254-bd04-4417-a109-249f6f631d85')\"\n",
              "            title=\"Convert this dataframe to an interactive table.\"\n",
              "            style=\"display:none;\">\n",
              "\n",
              "  <svg xmlns=\"http://www.w3.org/2000/svg\" height=\"24px\" viewBox=\"0 -960 960 960\">\n",
              "    <path d=\"M120-120v-720h720v720H120Zm60-500h600v-160H180v160Zm220 220h160v-160H400v160Zm0 220h160v-160H400v160ZM180-400h160v-160H180v160Zm440 0h160v-160H620v160ZM180-180h160v-160H180v160Zm440 0h160v-160H620v160Z\"/>\n",
              "  </svg>\n",
              "    </button>\n",
              "\n",
              "  <style>\n",
              "    .colab-df-container {\n",
              "      display:flex;\n",
              "      gap: 12px;\n",
              "    }\n",
              "\n",
              "    .colab-df-convert {\n",
              "      background-color: #E8F0FE;\n",
              "      border: none;\n",
              "      border-radius: 50%;\n",
              "      cursor: pointer;\n",
              "      display: none;\n",
              "      fill: #1967D2;\n",
              "      height: 32px;\n",
              "      padding: 0 0 0 0;\n",
              "      width: 32px;\n",
              "    }\n",
              "\n",
              "    .colab-df-convert:hover {\n",
              "      background-color: #E2EBFA;\n",
              "      box-shadow: 0px 1px 2px rgba(60, 64, 67, 0.3), 0px 1px 3px 1px rgba(60, 64, 67, 0.15);\n",
              "      fill: #174EA6;\n",
              "    }\n",
              "\n",
              "    .colab-df-buttons div {\n",
              "      margin-bottom: 4px;\n",
              "    }\n",
              "\n",
              "    [theme=dark] .colab-df-convert {\n",
              "      background-color: #3B4455;\n",
              "      fill: #D2E3FC;\n",
              "    }\n",
              "\n",
              "    [theme=dark] .colab-df-convert:hover {\n",
              "      background-color: #434B5C;\n",
              "      box-shadow: 0px 1px 3px 1px rgba(0, 0, 0, 0.15);\n",
              "      filter: drop-shadow(0px 1px 2px rgba(0, 0, 0, 0.3));\n",
              "      fill: #FFFFFF;\n",
              "    }\n",
              "  </style>\n",
              "\n",
              "    <script>\n",
              "      const buttonEl =\n",
              "        document.querySelector('#df-aeb6f254-bd04-4417-a109-249f6f631d85 button.colab-df-convert');\n",
              "      buttonEl.style.display =\n",
              "        google.colab.kernel.accessAllowed ? 'block' : 'none';\n",
              "\n",
              "      async function convertToInteractive(key) {\n",
              "        const element = document.querySelector('#df-aeb6f254-bd04-4417-a109-249f6f631d85');\n",
              "        const dataTable =\n",
              "          await google.colab.kernel.invokeFunction('convertToInteractive',\n",
              "                                                    [key], {});\n",
              "        if (!dataTable) return;\n",
              "\n",
              "        const docLinkHtml = 'Like what you see? Visit the ' +\n",
              "          '<a target=\"_blank\" href=https://colab.research.google.com/notebooks/data_table.ipynb>data table notebook</a>'\n",
              "          + ' to learn more about interactive tables.';\n",
              "        element.innerHTML = '';\n",
              "        dataTable['output_type'] = 'display_data';\n",
              "        await google.colab.output.renderOutput(dataTable, element);\n",
              "        const docLink = document.createElement('div');\n",
              "        docLink.innerHTML = docLinkHtml;\n",
              "        element.appendChild(docLink);\n",
              "      }\n",
              "    </script>\n",
              "  </div>\n",
              "\n",
              "\n",
              "    <div id=\"df-46c3f03d-34c5-4c2c-bba4-cb9bbcfeedc1\">\n",
              "      <button class=\"colab-df-quickchart\" onclick=\"quickchart('df-46c3f03d-34c5-4c2c-bba4-cb9bbcfeedc1')\"\n",
              "                title=\"Suggest charts\"\n",
              "                style=\"display:none;\">\n",
              "\n",
              "<svg xmlns=\"http://www.w3.org/2000/svg\" height=\"24px\"viewBox=\"0 0 24 24\"\n",
              "     width=\"24px\">\n",
              "    <g>\n",
              "        <path d=\"M19 3H5c-1.1 0-2 .9-2 2v14c0 1.1.9 2 2 2h14c1.1 0 2-.9 2-2V5c0-1.1-.9-2-2-2zM9 17H7v-7h2v7zm4 0h-2V7h2v10zm4 0h-2v-4h2v4z\"/>\n",
              "    </g>\n",
              "</svg>\n",
              "      </button>\n",
              "\n",
              "<style>\n",
              "  .colab-df-quickchart {\n",
              "      --bg-color: #E8F0FE;\n",
              "      --fill-color: #1967D2;\n",
              "      --hover-bg-color: #E2EBFA;\n",
              "      --hover-fill-color: #174EA6;\n",
              "      --disabled-fill-color: #AAA;\n",
              "      --disabled-bg-color: #DDD;\n",
              "  }\n",
              "\n",
              "  [theme=dark] .colab-df-quickchart {\n",
              "      --bg-color: #3B4455;\n",
              "      --fill-color: #D2E3FC;\n",
              "      --hover-bg-color: #434B5C;\n",
              "      --hover-fill-color: #FFFFFF;\n",
              "      --disabled-bg-color: #3B4455;\n",
              "      --disabled-fill-color: #666;\n",
              "  }\n",
              "\n",
              "  .colab-df-quickchart {\n",
              "    background-color: var(--bg-color);\n",
              "    border: none;\n",
              "    border-radius: 50%;\n",
              "    cursor: pointer;\n",
              "    display: none;\n",
              "    fill: var(--fill-color);\n",
              "    height: 32px;\n",
              "    padding: 0;\n",
              "    width: 32px;\n",
              "  }\n",
              "\n",
              "  .colab-df-quickchart:hover {\n",
              "    background-color: var(--hover-bg-color);\n",
              "    box-shadow: 0 1px 2px rgba(60, 64, 67, 0.3), 0 1px 3px 1px rgba(60, 64, 67, 0.15);\n",
              "    fill: var(--button-hover-fill-color);\n",
              "  }\n",
              "\n",
              "  .colab-df-quickchart-complete:disabled,\n",
              "  .colab-df-quickchart-complete:disabled:hover {\n",
              "    background-color: var(--disabled-bg-color);\n",
              "    fill: var(--disabled-fill-color);\n",
              "    box-shadow: none;\n",
              "  }\n",
              "\n",
              "  .colab-df-spinner {\n",
              "    border: 2px solid var(--fill-color);\n",
              "    border-color: transparent;\n",
              "    border-bottom-color: var(--fill-color);\n",
              "    animation:\n",
              "      spin 1s steps(1) infinite;\n",
              "  }\n",
              "\n",
              "  @keyframes spin {\n",
              "    0% {\n",
              "      border-color: transparent;\n",
              "      border-bottom-color: var(--fill-color);\n",
              "      border-left-color: var(--fill-color);\n",
              "    }\n",
              "    20% {\n",
              "      border-color: transparent;\n",
              "      border-left-color: var(--fill-color);\n",
              "      border-top-color: var(--fill-color);\n",
              "    }\n",
              "    30% {\n",
              "      border-color: transparent;\n",
              "      border-left-color: var(--fill-color);\n",
              "      border-top-color: var(--fill-color);\n",
              "      border-right-color: var(--fill-color);\n",
              "    }\n",
              "    40% {\n",
              "      border-color: transparent;\n",
              "      border-right-color: var(--fill-color);\n",
              "      border-top-color: var(--fill-color);\n",
              "    }\n",
              "    60% {\n",
              "      border-color: transparent;\n",
              "      border-right-color: var(--fill-color);\n",
              "    }\n",
              "    80% {\n",
              "      border-color: transparent;\n",
              "      border-right-color: var(--fill-color);\n",
              "      border-bottom-color: var(--fill-color);\n",
              "    }\n",
              "    90% {\n",
              "      border-color: transparent;\n",
              "      border-bottom-color: var(--fill-color);\n",
              "    }\n",
              "  }\n",
              "</style>\n",
              "\n",
              "      <script>\n",
              "        async function quickchart(key) {\n",
              "          const quickchartButtonEl =\n",
              "            document.querySelector('#' + key + ' button');\n",
              "          quickchartButtonEl.disabled = true;  // To prevent multiple clicks.\n",
              "          quickchartButtonEl.classList.add('colab-df-spinner');\n",
              "          try {\n",
              "            const charts = await google.colab.kernel.invokeFunction(\n",
              "                'suggestCharts', [key], {});\n",
              "          } catch (error) {\n",
              "            console.error('Error during call to suggestCharts:', error);\n",
              "          }\n",
              "          quickchartButtonEl.classList.remove('colab-df-spinner');\n",
              "          quickchartButtonEl.classList.add('colab-df-quickchart-complete');\n",
              "        }\n",
              "        (() => {\n",
              "          let quickchartButtonEl =\n",
              "            document.querySelector('#df-46c3f03d-34c5-4c2c-bba4-cb9bbcfeedc1 button');\n",
              "          quickchartButtonEl.style.display =\n",
              "            google.colab.kernel.accessAllowed ? 'block' : 'none';\n",
              "        })();\n",
              "      </script>\n",
              "    </div>\n",
              "\n",
              "  <div id=\"id_01a84445-1ba8-4647-8e8f-d94c159b80a0\">\n",
              "    <style>\n",
              "      .colab-df-generate {\n",
              "        background-color: #E8F0FE;\n",
              "        border: none;\n",
              "        border-radius: 50%;\n",
              "        cursor: pointer;\n",
              "        display: none;\n",
              "        fill: #1967D2;\n",
              "        height: 32px;\n",
              "        padding: 0 0 0 0;\n",
              "        width: 32px;\n",
              "      }\n",
              "\n",
              "      .colab-df-generate:hover {\n",
              "        background-color: #E2EBFA;\n",
              "        box-shadow: 0px 1px 2px rgba(60, 64, 67, 0.3), 0px 1px 3px 1px rgba(60, 64, 67, 0.15);\n",
              "        fill: #174EA6;\n",
              "      }\n",
              "\n",
              "      [theme=dark] .colab-df-generate {\n",
              "        background-color: #3B4455;\n",
              "        fill: #D2E3FC;\n",
              "      }\n",
              "\n",
              "      [theme=dark] .colab-df-generate:hover {\n",
              "        background-color: #434B5C;\n",
              "        box-shadow: 0px 1px 3px 1px rgba(0, 0, 0, 0.15);\n",
              "        filter: drop-shadow(0px 1px 2px rgba(0, 0, 0, 0.3));\n",
              "        fill: #FFFFFF;\n",
              "      }\n",
              "    </style>\n",
              "    <button class=\"colab-df-generate\" onclick=\"generateWithVariable('df')\"\n",
              "            title=\"Generate code using this dataframe.\"\n",
              "            style=\"display:none;\">\n",
              "\n",
              "  <svg xmlns=\"http://www.w3.org/2000/svg\" height=\"24px\"viewBox=\"0 0 24 24\"\n",
              "       width=\"24px\">\n",
              "    <path d=\"M7,19H8.4L18.45,9,17,7.55,7,17.6ZM5,21V16.75L18.45,3.32a2,2,0,0,1,2.83,0l1.4,1.43a1.91,1.91,0,0,1,.58,1.4,1.91,1.91,0,0,1-.58,1.4L9.25,21ZM18.45,9,17,7.55Zm-12,3A5.31,5.31,0,0,0,4.9,8.1,5.31,5.31,0,0,0,1,6.5,5.31,5.31,0,0,0,4.9,4.9,5.31,5.31,0,0,0,6.5,1,5.31,5.31,0,0,0,8.1,4.9,5.31,5.31,0,0,0,12,6.5,5.46,5.46,0,0,0,6.5,12Z\"/>\n",
              "  </svg>\n",
              "    </button>\n",
              "    <script>\n",
              "      (() => {\n",
              "      const buttonEl =\n",
              "        document.querySelector('#id_01a84445-1ba8-4647-8e8f-d94c159b80a0 button.colab-df-generate');\n",
              "      buttonEl.style.display =\n",
              "        google.colab.kernel.accessAllowed ? 'block' : 'none';\n",
              "\n",
              "      buttonEl.onclick = () => {\n",
              "        google.colab.notebook.generateWithVariable('df');\n",
              "      }\n",
              "      })();\n",
              "    </script>\n",
              "  </div>\n",
              "\n",
              "    </div>\n",
              "  </div>\n"
            ],
            "application/vnd.google.colaboratory.intrinsic+json": {
              "type": "dataframe",
              "variable_name": "df",
              "summary": "{\n  \"name\": \"df\",\n  \"rows\": 5,\n  \"fields\": [\n    {\n      \"column\": \"TID\",\n      \"properties\": {\n        \"dtype\": \"number\",\n        \"std\": 1,\n        \"min\": 1,\n        \"max\": 5,\n        \"num_unique_values\": 5,\n        \"samples\": [\n          2,\n          5,\n          3\n        ],\n        \"semantic_type\": \"\",\n        \"description\": \"\"\n      }\n    },\n    {\n      \"column\": \"Items\",\n      \"properties\": {\n        \"dtype\": \"object\",\n        \"semantic_type\": \"\",\n        \"description\": \"\"\n      }\n    }\n  ]\n}"
            }
          },
          "metadata": {},
          "execution_count": 9
        }
      ],
      "source": [
        "import numpy as np\n",
        "import pandas as pd\n",
        "\n",
        "df = pd.DataFrame({'TID':[1,2,3,4,5], 'Items':[['pen','pencil'],['pen','eraser','pencil'],['eraser','pencil','scale'],['pen','scale'],['pen','eraser','scale']]})\n",
        "df"
      ]
    },
    {
      "cell_type": "code",
      "source": [
        "contents = []\n",
        "for i in df['Items']:\n",
        "    for j in i:\n",
        "        contents.append(j)\n",
        "contents = list(set(contents))\n",
        "contents"
      ],
      "metadata": {
        "colab": {
          "base_uri": "https://localhost:8080/"
        },
        "id": "GBJxyorQJqZH",
        "outputId": "46a2a703-f170-4eb5-a8db-cd3d7411e556"
      },
      "execution_count": null,
      "outputs": [
        {
          "output_type": "execute_result",
          "data": {
            "text/plain": [
              "['pen', 'scale', 'pencil', 'eraser']"
            ]
          },
          "metadata": {},
          "execution_count": 10
        }
      ]
    },
    {
      "cell_type": "code",
      "source": [
        "count_of_each = {}\n",
        "for i in contents:\n",
        "    count = 0\n",
        "    for j in df['Items']:\n",
        "        if i in j:\n",
        "            count += 1\n",
        "    count_of_each[i] = count\n",
        "count_of_each"
      ],
      "metadata": {
        "colab": {
          "base_uri": "https://localhost:8080/"
        },
        "id": "tZHzTxnBJ4cX",
        "outputId": "cf9884dd-f22c-42d2-e179-ce7ba190a916"
      },
      "execution_count": null,
      "outputs": [
        {
          "output_type": "execute_result",
          "data": {
            "text/plain": [
              "{'pen': 4, 'scale': 3, 'pencil': 3, 'eraser': 3}"
            ]
          },
          "metadata": {},
          "execution_count": 11
        }
      ]
    },
    {
      "cell_type": "code",
      "source": [
        "combinations = []\n",
        "for i in range(len(contents)):\n",
        "    for j in range(i + 1, len(contents)):\n",
        "        combinations.append((contents[i], contents[j]))\n",
        "\n",
        "print(\"Combinations of items:\")\n",
        "print(combinations)"
      ],
      "metadata": {
        "colab": {
          "base_uri": "https://localhost:8080/"
        },
        "id": "UM99PfUUKKDG",
        "outputId": "a35018ab-295a-43e9-8ad3-d6fc42416db6"
      },
      "execution_count": null,
      "outputs": [
        {
          "output_type": "stream",
          "name": "stdout",
          "text": [
            "Combinations of items:\n",
            "[('pen', 'scale'), ('pen', 'pencil'), ('pen', 'eraser'), ('scale', 'pencil'), ('scale', 'eraser'), ('pencil', 'eraser')]\n"
          ]
        }
      ]
    },
    {
      "cell_type": "code",
      "source": [
        "count_of_combinations = {}\n",
        "for combo in combinations:\n",
        "    count = 0\n",
        "    for items_list in df['Items']:\n",
        "        if all(item in items_list for item in combo):\n",
        "            count += 1\n",
        "    count_of_combinations[combo] = count\n",
        "\n",
        "print(\"\\nCounts of each combination:\")\n",
        "print(count_of_combinations)"
      ],
      "metadata": {
        "colab": {
          "base_uri": "https://localhost:8080/"
        },
        "id": "YCi4ngvSK3Ld",
        "outputId": "0a0af17d-cace-47ad-f73c-18785983ba4e"
      },
      "execution_count": null,
      "outputs": [
        {
          "output_type": "stream",
          "name": "stdout",
          "text": [
            "\n",
            "Counts of each combination:\n",
            "{('pen', 'scale'): 2, ('pen', 'pencil'): 2, ('pen', 'eraser'): 2, ('scale', 'pencil'): 1, ('scale', 'eraser'): 2, ('pencil', 'eraser'): 2}\n"
          ]
        }
      ]
    },
    {
      "cell_type": "code",
      "source": [
        "filtered_combinations = {combo: count for combo, count in count_of_combinations.items() if count >= 2}\n",
        "\n",
        "print(\"Filtered combinations (count >= 2):\")\n",
        "print(filtered_combinations)"
      ],
      "metadata": {
        "colab": {
          "base_uri": "https://localhost:8080/"
        },
        "id": "WnJmNYHdLWFD",
        "outputId": "a4a394c9-f312-4f2f-da0e-bb8153725270"
      },
      "execution_count": null,
      "outputs": [
        {
          "output_type": "stream",
          "name": "stdout",
          "text": [
            "Filtered combinations (count >= 2):\n",
            "{('pen', 'scale'): 2, ('pen', 'pencil'): 2, ('pen', 'eraser'): 2, ('scale', 'eraser'): 2, ('pencil', 'eraser'): 2}\n"
          ]
        }
      ]
    },
    {
      "cell_type": "code",
      "source": [
        "def analyze_associations(filtered_combinations, total_transactions, count_of_each):\n",
        "    associations = []\n",
        "    for combo, count in filtered_combinations.items():\n",
        "        item1, item2 = combo\n",
        "\n",
        "        # Calculate Support\n",
        "        support = round(count / total_transactions, 3)\n",
        "\n",
        "        # Calculate Confidence (for item1 -> item2)\n",
        "        confidence_item1_item2 = round(count / count_of_each[item1], 3)\n",
        "\n",
        "        # Calculate Confidence (for item2 -> item1)\n",
        "        confidence_item2_item1 = round(count / count_of_each[item2], 3)\n",
        "\n",
        "        # Calculate Lift (for item1 -> item2)\n",
        "        lift_item1_item2 = round(confidence_item1_item2 / (count_of_each[item2] / total_transactions), 3)\n",
        "\n",
        "        # Calculate Lift (for item2 -> item1)\n",
        "        lift_item2_item1 = round(confidence_item2_item1 / (count_of_each[item1] / total_transactions), 3)\n",
        "\n",
        "        # Determine association type\n",
        "        if lift_item1_item2 > 1 or lift_item2_item1 > 1:\n",
        "            association_type = \"Positive Association\"\n",
        "        elif lift_item1_item2 < 1 or lift_item2_item1 < 1:\n",
        "            association_type = \"Negative Association\"\n",
        "        else:\n",
        "            association_type = \"Neutral Association\"\n",
        "\n",
        "        associations.append({\n",
        "            \"Combination\": f\"{item1}, {item2}\",\n",
        "            \"Support\": support,\n",
        "            f\"Confidence ({item1} -> {item2})\": confidence_item1_item2,\n",
        "            f\"Confidence ({item2} -> {item1})\": confidence_item2_item1,\n",
        "            f\"Lift ({item1} -> {item2})\": lift_item1_item2,\n",
        "            f\"Lift ({item2} -> {item1})\": lift_item2_item1,\n",
        "            \"Association Type\": association_type\n",
        "        })\n",
        "    return associations\n",
        "\n",
        "\n",
        "# Get total transactions\n",
        "total_transactions = len(df)\n",
        "\n",
        "# Analyze associations\n",
        "association_results = analyze_associations(filtered_combinations, total_transactions, count_of_each)\n",
        "\n",
        "# Print results vertically\n",
        "for i, result in enumerate(association_results, 1):\n",
        "    print(f\"\\nAssociation Rule {i}\")\n",
        "    print(\"-\" * 40)\n",
        "    for key, value in result.items():\n",
        "        print(f\"{key:25}: {value}\")\n"
      ],
      "metadata": {
        "colab": {
          "base_uri": "https://localhost:8080/"
        },
        "id": "8Tuslsw9LyTJ",
        "outputId": "1538c026-81a0-4f66-a8f5-c1e82711f830"
      },
      "execution_count": null,
      "outputs": [
        {
          "output_type": "stream",
          "name": "stdout",
          "text": [
            "\n",
            "Association Rule 1\n",
            "----------------------------------------\n",
            "Combination              : pen, scale\n",
            "Support                  : 0.4\n",
            "Confidence (pen -> scale): 0.5\n",
            "Confidence (scale -> pen): 0.667\n",
            "Lift (pen -> scale)      : 0.833\n",
            "Lift (scale -> pen)      : 0.834\n",
            "Association Type         : Negative Association\n",
            "\n",
            "Association Rule 2\n",
            "----------------------------------------\n",
            "Combination              : pen, pencil\n",
            "Support                  : 0.4\n",
            "Confidence (pen -> pencil): 0.5\n",
            "Confidence (pencil -> pen): 0.667\n",
            "Lift (pen -> pencil)     : 0.833\n",
            "Lift (pencil -> pen)     : 0.834\n",
            "Association Type         : Negative Association\n",
            "\n",
            "Association Rule 3\n",
            "----------------------------------------\n",
            "Combination              : pen, eraser\n",
            "Support                  : 0.4\n",
            "Confidence (pen -> eraser): 0.5\n",
            "Confidence (eraser -> pen): 0.667\n",
            "Lift (pen -> eraser)     : 0.833\n",
            "Lift (eraser -> pen)     : 0.834\n",
            "Association Type         : Negative Association\n",
            "\n",
            "Association Rule 4\n",
            "----------------------------------------\n",
            "Combination              : scale, eraser\n",
            "Support                  : 0.4\n",
            "Confidence (scale -> eraser): 0.667\n",
            "Confidence (eraser -> scale): 0.667\n",
            "Lift (scale -> eraser)   : 1.112\n",
            "Lift (eraser -> scale)   : 1.112\n",
            "Association Type         : Positive Association\n",
            "\n",
            "Association Rule 5\n",
            "----------------------------------------\n",
            "Combination              : pencil, eraser\n",
            "Support                  : 0.4\n",
            "Confidence (pencil -> eraser): 0.667\n",
            "Confidence (eraser -> pencil): 0.667\n",
            "Lift (pencil -> eraser)  : 1.112\n",
            "Lift (eraser -> pencil)  : 1.112\n",
            "Association Type         : Positive Association\n"
          ]
        }
      ]
    },
    {
      "cell_type": "code",
      "source": [
        "import matplotlib.pyplot as plt\n",
        "import seaborn as sns"
      ],
      "metadata": {
        "id": "zgO0X_FE5o_P"
      },
      "execution_count": null,
      "outputs": []
    },
    {
      "cell_type": "code",
      "source": [
        "# Item frequency bar chart\n",
        "plt.figure(figsize=(6, 4))\n",
        "plt.bar(count_of_each.keys(), count_of_each.values(), color='skyblue')\n",
        "plt.title(\"Item Frequency\")\n",
        "plt.xlabel(\"Items\")\n",
        "plt.ylabel(\"Count\")\n",
        "plt.grid(axis='y', linestyle='--', alpha=0.7)\n",
        "plt.show()"
      ],
      "metadata": {
        "colab": {
          "base_uri": "https://localhost:8080/",
          "height": 410
        },
        "id": "wPY-TIjB5jCo",
        "outputId": "d032b950-b979-4492-c58b-adf4e0825775"
      },
      "execution_count": null,
      "outputs": [
        {
          "output_type": "display_data",
          "data": {
            "text/plain": [
              "<Figure size 600x400 with 1 Axes>"
            ],
            "image/png": "[encoded data removed]"
          },
          "metadata": {}
        }
      ]
    },
    {
      "cell_type": "code",
      "source": [
        "# Combination frequency bar chart\n",
        "combo_labels = [f\"{a} & {b}\" for (a, b) in filtered_combinations.keys()]\n",
        "combo_counts = list(filtered_combinations.values())\n",
        "\n",
        "plt.figure(figsize=(7, 4))\n",
        "sns.barplot(x=combo_labels, y=combo_counts, palette=\"viridis\")\n",
        "plt.title(\"Frequent Item Combinations (Count ≥ 2)\")\n",
        "plt.xlabel(\"Item Pairs\")\n",
        "plt.ylabel(\"Count\")\n",
        "plt.xticks(rotation=45)\n",
        "plt.show()\n"
      ],
      "metadata": {
        "colab": {
          "base_uri": "https://localhost:8080/",
          "height": 567
        },
        "id": "apwRFzMB5slO",
        "outputId": "08db9ed7-80a3-47f3-85be-ed5bbbb38905"
      },
      "execution_count": null,
      "outputs": [
        {
          "output_type": "stream",
          "name": "stderr",
          "text": [
            "/tmp/ipython-input-3240428651.py:6: FutureWarning: \n",
            "\n",
            "Passing `palette` without assigning `hue` is deprecated and will be removed in v0.14.0. Assign the `x` variable to `hue` and set `legend=False` for the same effect.\n",
            "\n",
            "  sns.barplot(x=combo_labels, y=combo_counts, palette=\"viridis\")\n"
          ]
        },
        {
          "output_type": "display_data",
          "data": {
            "text/plain": [
              "<Figure size 700x400 with 1 Axes>"
            ],
            "image/png": "[encoded data removed]"
          },
          "metadata": {}
        }
      ]
    }
  ]
}