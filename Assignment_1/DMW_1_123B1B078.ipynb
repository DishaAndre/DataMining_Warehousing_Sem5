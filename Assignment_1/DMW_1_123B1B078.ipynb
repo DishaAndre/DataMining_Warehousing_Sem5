{
  "nbformat": 4,
  "nbformat_minor": 0,
  "metadata": {
    "colab": {
      "provenance": []
    },
    "kernelspec": {
      "name": "python3",
      "display_name": "Python 3"
    },
    "language_info": {
      "name": "python"
    }
  },
  "cells": [
    {
      "cell_type": "code",
      "execution_count": null,
      "metadata": {
        "id": "IqAppgKhrvkG"
      },
      "outputs": [],
      "source": [
        "import pandas as pd\n",
        "import numpy as np\n",
        "import matplotlib.pyplot as plt\n",
        "import seaborn as sns\n",
        "from sklearn.preprocessing import MinMaxScaler, StandardScaler\n"
      ]
    },
    {
      "cell_type": "code",
      "source": [
        "data = {\n",
        "    'Name': ['A', 'B', 'C', 'D', 'A'],\n",
        "    'Age': [19, 20, 18, np.nan, 19],\n",
        "    'Salary': [20000, 44500, np.nan, 80000, 20000]\n",
        "}\n",
        "df = pd.DataFrame(data)\n",
        "print(\"Dataset:\\n\", df, \"\\n\")"
      ],
      "metadata": {
        "colab": {
          "base_uri": "https://localhost:8080/"
        },
        "id": "H2wSiIx_r6P-",
        "outputId": "59315df0-7e3b-4dc5-9b4d-af4475e952a9"
      },
      "execution_count": null,
      "outputs": [
        {
          "output_type": "stream",
          "name": "stdout",
          "text": [
            "Dataset:\n",
            "   Name   Age   Salary\n",
            "0    A  19.0  20000.0\n",
            "1    B  20.0  44500.0\n",
            "2    C  18.0      NaN\n",
            "3    D   NaN  80000.0\n",
            "4    A  19.0  20000.0 \n",
            "\n"
          ]
        }
      ]
    },
    {
      "cell_type": "code",
      "source": [
        "dups = df[df.duplicated()]\n",
        "print(\"Duplicate Rows:\\n\", dups, \"\\n\")\n",
        "\n",
        "df = df.drop_duplicates()\n",
        "print(\"After Removing Duplicates:\\n\", df, \"\\n\")"
      ],
      "metadata": {
        "colab": {
          "base_uri": "https://localhost:8080/"
        },
        "id": "lllL51b5sMUx",
        "outputId": "63357e98-7648-420f-9a08-86a85a3b8198"
      },
      "execution_count": null,
      "outputs": [
        {
          "output_type": "stream",
          "name": "stdout",
          "text": [
            "Duplicate Rows:\n",
            "   Name   Age   Salary\n",
            "4    A  19.0  20000.0 \n",
            "\n",
            "After Removing Duplicates:\n",
            "   Name   Age   Salary\n",
            "0    A  19.0  20000.0\n",
            "1    B  20.0  44500.0\n",
            "2    C  18.0      NaN\n",
            "3    D   NaN  80000.0 \n",
            "\n"
          ]
        }
      ]
    },
    {
      "cell_type": "code",
      "source": [
        "df[['Age', 'Salary']] = df[['Age', 'Salary']].fillna(df[['Age', 'Salary']].mean())\n",
        "print(\"After Handling Missing Values (using Mean):\\n\", df, \"\\n\")"
      ],
      "metadata": {
        "colab": {
          "base_uri": "https://localhost:8080/"
        },
        "id": "T-t-9mQlsNjd",
        "outputId": "802c7f74-8394-4e33-b657-c3da957b66d1"
      },
      "execution_count": null,
      "outputs": [
        {
          "output_type": "stream",
          "name": "stdout",
          "text": [
            "After Handling Missing Values (using Mean):\n",
            "   Name   Age        Salary\n",
            "0    A  19.0  20000.000000\n",
            "1    B  20.0  44500.000000\n",
            "2    C  18.0  48166.666667\n",
            "3    D  19.0  80000.000000 \n",
            "\n"
          ]
        }
      ]
    },
    {
      "cell_type": "code",
      "source": [
        "cols = ['Age', 'Salary']\n",
        "\n",
        "scaler = MinMaxScaler()\n",
        "df_minmax = df.copy()\n",
        "df_minmax[cols] = scaler.fit_transform(df_minmax[cols])\n",
        "print(\"After Min-Max Scaling:\\n\", df_minmax, \"\\n\")"
      ],
      "metadata": {
        "colab": {
          "base_uri": "https://localhost:8080/"
        },
        "id": "9ihqQfsWsPvp",
        "outputId": "7aba9a4b-db06-4c8f-b9d4-1722006a5f40"
      },
      "execution_count": null,
      "outputs": [
        {
          "output_type": "stream",
          "name": "stdout",
          "text": [
            "After Min-Max Scaling:\n",
            "   Name  Age    Salary\n",
            "0    A  0.5  0.000000\n",
            "1    B  1.0  0.408333\n",
            "2    C  0.0  0.469444\n",
            "3    D  0.5  1.000000 \n",
            "\n"
          ]
        }
      ]
    },
    {
      "cell_type": "code",
      "source": [
        "scaler_std = StandardScaler()\n",
        "df_std = df.copy()\n",
        "df_std[cols] = scaler_std.fit_transform(df_std[cols])\n",
        "print(\"After Standard Scaling:\\n\", df_std, \"\\n\")"
      ],
      "metadata": {
        "colab": {
          "base_uri": "https://localhost:8080/"
        },
        "id": "Wmi--_c-sSAw",
        "outputId": "b7a0fd67-3cb6-4b5d-d88e-58fb9ca0692a"
      },
      "execution_count": null,
      "outputs": [
        {
          "output_type": "stream",
          "name": "stdout",
          "text": [
            "After Standard Scaling:\n",
            "   Name       Age    Salary\n",
            "0    A  0.000000 -1.320413\n",
            "1    B  1.414214 -0.171888\n",
            "2    C -1.414214  0.000000\n",
            "3    D  0.000000  1.492301 \n",
            "\n"
          ]
        }
      ]
    },
    {
      "cell_type": "code",
      "source": [
        "print(\"Measures of Central Tendency and Dispersion:\\n\")\n",
        "for col in cols:\n",
        "    print(f\"{col}\")\n",
        "    print(\"Mean:\", df[col].mean())\n",
        "    print(\"Median:\", df[col].median())\n",
        "    print(\"Mode:\", df[col].mode()[0])\n",
        "    print(\"Variance:\", df[col].var())\n",
        "    print(\"Standard Deviation:\", df[col].std())\n",
        "    print(\"Range:\", df[col].max() - df[col].min())\n",
        "    Q1 = df[col].quantile(0.25)\n",
        "    Q3 = df[col].quantile(0.75)\n",
        "    print(\"Interquartile Range (IQR):\", Q3 - Q1, \"\\n\")"
      ],
      "metadata": {
        "colab": {
          "base_uri": "https://localhost:8080/"
        },
        "id": "D3LlP7xUsUEU",
        "outputId": "f005f9a0-bba1-47f9-e95d-2ba176d9738f"
      },
      "execution_count": null,
      "outputs": [
        {
          "output_type": "stream",
          "name": "stdout",
          "text": [
            "Measures of Central Tendency and Dispersion:\n",
            "\n",
            "Age\n",
            "Mean: 19.0\n",
            "Median: 19.0\n",
            "Mode: 19.0\n",
            "Variance: 0.6666666666666666\n",
            "Standard Deviation: 0.816496580927726\n",
            "Range: 2.0\n",
            "Interquartile Range (IQR): 0.5 \n",
            "\n",
            "Salary\n",
            "Mean: 48166.666666666664\n",
            "Median: 46333.33333333333\n",
            "Mode: 20000.0\n",
            "Variance: 606722222.2222222\n",
            "Standard Deviation: 24631.732018317798\n",
            "Range: 60000.0\n",
            "Interquartile Range (IQR): 17750.0 \n",
            "\n"
          ]
        }
      ]
    },
    {
      "cell_type": "code",
      "source": [
        "plt.figure(figsize=(10,5))\n",
        "plt.subplot(1,2,2)\n",
        "sns.boxplot(y=df['Salary'], color='lightgreen')\n",
        "plt.title(\"Salary Spread (Boxplot)\")\n",
        "\n",
        "plt.tight_layout()\n",
        "plt.show()"
      ],
      "metadata": {
        "colab": {
          "base_uri": "https://localhost:8080/",
          "height": 507
        },
        "id": "vFBtSRJrsaOo",
        "outputId": "2f9e7a9c-abad-450a-d44a-612d9e5c3028"
      },
      "execution_count": null,
      "outputs": [
        {
          "output_type": "display_data",
          "data": {
            "text/plain": [
              "<Figure size 1000x500 with 1 Axes>"
            ],
            "image/png": "[encoded data removed]"
          },
          "metadata": {}
        }
      ]
    },
    {
      "cell_type": "code",
      "source": [
        "data2 = {\n",
        "    'Name':['A', 'B', 'C', '000000000D', 'E', 'F', 'G', 'H'],\n",
        "    'Gender':['Male', 'F', 'M', 'Female', 'M', 'male', 'female', 'M']\n",
        "}\n",
        "df2 = pd.DataFrame(data2)\n",
        "print(\"Original Gender Data:\\n\", df2, \"\\n\")"
      ],
      "metadata": {
        "colab": {
          "base_uri": "https://localhost:8080/"
        },
        "id": "FzfAbNDescSG",
        "outputId": "d9fc131c-ce1a-4bec-e01e-7be577bebbed"
      },
      "execution_count": null,
      "outputs": [
        {
          "output_type": "stream",
          "name": "stdout",
          "text": [
            "Original Gender Data:\n",
            "          Name  Gender\n",
            "0           A    Male\n",
            "1           B       F\n",
            "2           C       M\n",
            "3  000000000D  Female\n",
            "4           E       M\n",
            "5           F    male\n",
            "6           G  female\n",
            "7           H       M \n",
            "\n"
          ]
        }
      ]
    },
    {
      "cell_type": "code",
      "source": [
        "df2['Gender'] = df2['Gender'].str.lower().str.strip()\n",
        "df2['Gender'] = df2['Gender'].replace({\n",
        "    'm': 'Male',\n",
        "    'male': 'Male',\n",
        "    'f': 'Female',\n",
        "    'female': 'Female'\n",
        "})\n",
        "print(\"Cleaned Gender Data:\\n\", df2, \"\\n\")"
      ],
      "metadata": {
        "colab": {
          "base_uri": "https://localhost:8080/"
        },
        "id": "luLVo3Jqsftb",
        "outputId": "e6d43fde-599b-482c-b891-0cbe1f3d326b"
      },
      "execution_count": null,
      "outputs": [
        {
          "output_type": "stream",
          "name": "stdout",
          "text": [
            "Cleaned Gender Data:\n",
            "          Name  Gender\n",
            "0           A    Male\n",
            "1           B  Female\n",
            "2           C    Male\n",
            "3  000000000D  Female\n",
            "4           E    Male\n",
            "5           F    Male\n",
            "6           G  Female\n",
            "7           H    Male \n",
            "\n"
          ]
        }
      ]
    }
  ]
}